{
 "cells": [
  {
   "cell_type": "code",
   "execution_count": 2,
   "id": "0c4c835c",
   "metadata": {},
   "outputs": [
    {
     "name": "stdout",
     "output_type": "stream",
     "text": [
      "3\n",
      "2 cheese peppers\n",
      "0\n",
      "1 basil\n",
      "1 pineapple\n",
      "2 mushrooms tomatoes\n",
      "1 basil\n",
      "4 tomatoes peppers cheese mushrooms "
     ]
    }
   ],
   "source": [
    "#mannualy input\n",
    "Cl=int(input())\n",
    "L=[]\n",
    "D=[]\n",
    "Likei=[]\n",
    "Dlikei=[]\n",
    "for i in range(0,Cl):\n",
    "    L.append(input().split())\n",
    "    D.append(input().split())\n",
    "\n",
    "for j in range(0,len(L)):\n",
    "    for i in range(1,len(L[j])):\n",
    "        Likei.append(L[j][i])\n",
    "\n",
    "for j in range(0,len(D)):\n",
    "    for i in range(1,len(D[j])):\n",
    "        Dlikei.append(D[j][i])\n",
    "\n",
    "for j in Dlikei:\n",
    "    for i in Likei:\n",
    "        if j == i:\n",
    "            Likei.remove(j)\n",
    "\n",
    "Likei=list(set(Likei))\n",
    "print(len(Likei),end=\" \")\n",
    "for i in Likei:\n",
    "    print(i,end=\" \")"
   ]
  },
  {
   "cell_type": "code",
   "execution_count": 3,
   "id": "b7951988",
   "metadata": {},
   "outputs": [
    {
     "name": "stdout",
     "output_type": "stream",
     "text": [
      "4 tomatoes peppers cheese mushrooms "
     ]
    }
   ],
   "source": [
    "# string getting through txt\n",
    "ui = open(\"a_an_example.txt\")\n",
    "temp=ui.readlines()\n",
    "L=[]\n",
    "D=[]\n",
    "Like=[]\n",
    "Dlike=[]\n",
    "for i in range(1,len(temp)):\n",
    "    if i%2!=0:\n",
    "        L.append(temp[i].split())\n",
    "    else:\n",
    "        D.append(temp[i].split())\n",
    "\n",
    "for i in range(0,len(L)):\n",
    "    for j in range(1,int(L[i][0])+1):\n",
    "        Like.append(L[i][j])\n",
    "\n",
    "for i in range(0,len(D)):\n",
    "    for j in range(1,int(D[i][0])+1):\n",
    "        Dlike.append(D[i][j])\n",
    "\n",
    "for j in Dlike:\n",
    "    for i in Like:\n",
    "        if j == i:\n",
    "            Like.remove(j)\n",
    "\n",
    "Like=list(set(Like))\n",
    "print(len(Like),end=\" \")\n",
    "for i in Like:\n",
    "    print(i,end=\" \")"
   ]
  },
  {
   "cell_type": "code",
   "execution_count": 4,
   "id": "e1d26747",
   "metadata": {},
   "outputs": [
    {
     "name": "stdout",
     "output_type": "stream",
     "text": [
      "6 vxglq byyii dlust xveqd luncl akuof "
     ]
    }
   ],
   "source": [
    "ui = open(\"b_basic.txt\")\n",
    "temp=ui.readlines()\n",
    "L=[]\n",
    "D=[]\n",
    "Like=[]\n",
    "Dlike=[]\n",
    "for i in range(1,len(temp)):\n",
    "    if i%2!=0:\n",
    "        L.append(temp[i].split())\n",
    "    else:\n",
    "        D.append(temp[i].split())\n",
    "\n",
    "for i in range(0,len(L)):\n",
    "    for j in range(1,int(L[i][0])+1):\n",
    "        Like.append(L[i][j])\n",
    "\n",
    "for i in range(0,len(D)):\n",
    "    for j in range(1,int(D[i][0])+1):\n",
    "        Dlike.append(D[i][j])\n",
    "\n",
    "for j in Dlike:\n",
    "    for i in Like:\n",
    "        if j == i:\n",
    "            Like.remove(j)\n",
    "\n",
    "Like=list(set(Like))\n",
    "print(len(Like),end=\" \")\n",
    "for i in Like:\n",
    "    print(i,end=\" \")"
   ]
  },
  {
   "cell_type": "code",
   "execution_count": 5,
   "id": "f4338a14",
   "metadata": {},
   "outputs": [
    {
     "name": "stdout",
     "output_type": "stream",
     "text": [
      "4 dlust vxglq luncl tfeej "
     ]
    }
   ],
   "source": [
    "ui = open(\"c_coarse.txt\")\n",
    "temp=ui.readlines()\n",
    "L=[]\n",
    "D=[]\n",
    "Like=[]\n",
    "Dlike=[]\n",
    "for i in range(1,len(temp)):\n",
    "    if i%2!=0:\n",
    "        L.append(temp[i].split())\n",
    "    else:\n",
    "        D.append(temp[i].split())\n",
    "\n",
    "for i in range(0,len(L)):\n",
    "    for j in range(1,int(L[i][0])+1):\n",
    "        Like.append(L[i][j])\n",
    "\n",
    "for i in range(0,len(D)):\n",
    "    for j in range(1,int(D[i][0])+1):\n",
    "        Dlike.append(D[i][j])\n",
    "\n",
    "for j in Dlike:\n",
    "    for i in Like:\n",
    "        if j == i:\n",
    "            Like.remove(j)\n",
    "\n",
    "Like=list(set(Like))\n",
    "print(len(Like),end=\" \")\n",
    "for i in Like:\n",
    "    print(i,end=\" \")"
   ]
  },
  {
   "cell_type": "code",
   "execution_count": 6,
   "id": "42fa0103",
   "metadata": {},
   "outputs": [
    {
     "name": "stdout",
     "output_type": "stream",
     "text": [
      "100 ingredient562 ingredient518 ingredient554 ingredient543 ingredient513 ingredient578 ingredient581 ingredient532 ingredient546 ingredient524 ingredient505 ingredient599 ingredient541 ingredient593 ingredient589 ingredient594 ingredient540 ingredient514 ingredient591 ingredient566 ingredient511 ingredient522 ingredient503 ingredient535 ingredient536 ingredient600 ingredient579 ingredient552 ingredient544 ingredient515 ingredient525 ingredient539 ingredient596 ingredient529 ingredient568 ingredient537 ingredient583 ingredient587 ingredient509 ingredient510 ingredient553 ingredient576 ingredient571 ingredient580 ingredient530 ingredient504 ingredient582 ingredient549 ingredient527 ingredient598 ingredient559 ingredient531 ingredient572 ingredient523 ingredient542 ingredient570 ingredient548 ingredient557 ingredient577 ingredient545 ingredient520 ingredient547 ingredient567 ingredient584 ingredient528 ingredient597 ingredient507 ingredient574 ingredient561 ingredient538 ingredient556 ingredient590 ingredient560 ingredient558 ingredient550 ingredient585 ingredient564 ingredient551 ingredient517 ingredient586 ingredient506 ingredient521 ingredient575 ingredient565 ingredient573 ingredient519 ingredient563 ingredient526 ingredient595 ingredient516 ingredient501 ingredient592 ingredient555 ingredient588 ingredient508 ingredient569 ingredient534 ingredient533 ingredient512 ingredient502 "
     ]
    }
   ],
   "source": [
    "ui = open(\"d_difficult.txt\")\n",
    "temp=ui.readlines()\n",
    "L=[]\n",
    "D=[]\n",
    "Like=[]\n",
    "Dlike=[]\n",
    "for i in range(1,len(temp)):\n",
    "    if i%2!=0:\n",
    "        L.append(temp[i].split())\n",
    "    else:\n",
    "        D.append(temp[i].split())\n",
    "\n",
    "for i in range(0,len(L)):\n",
    "    for j in range(1,int(L[i][0])+1):\n",
    "        Like.append(L[i][j])\n",
    "\n",
    "for i in range(0,len(D)):\n",
    "    for j in range(1,int(D[i][0])+1):\n",
    "        Dlike.append(D[i][j])\n",
    "\n",
    "for j in Dlike:\n",
    "    for i in Like:\n",
    "        if j == i:\n",
    "            Like.remove(j)\n",
    "\n",
    "Like=list(set(Like))\n",
    "print(len(Like),end=\" \")\n",
    "for i in Like:\n",
    "    print(i,end=\" \")"
   ]
  },
  {
   "cell_type": "code",
   "execution_count": 7,
   "id": "8572e8f3",
   "metadata": {},
   "outputs": [
    {
     "name": "stdout",
     "output_type": "stream",
     "text": [
      "2864 ingredient9581 ingredient1963 ingredient2313 ingredient27 ingredient4159 ingredient8197 ingredient8326 ingredient3113 ingredient9860 ingredient792 ingredient3725 ingredient1827 ingredient8868 ingredient8454 ingredient6471 ingredient5191 ingredient5040 ingredient8162 ingredient2747 ingredient5792 ingredient808 ingredient794 ingredient5297 ingredient8303 ingredient213 ingredient5351 ingredient2645 ingredient7000 ingredient1359 ingredient800 ingredient3146 ingredient3611 ingredient1731 ingredient621 ingredient4383 ingredient5200 ingredient5476 ingredient3330 ingredient1661 ingredient3795 ingredient9397 ingredient3200 ingredient7413 ingredient1189 ingredient6514 ingredient4992 ingredient1073 ingredient8534 ingredient2195 ingredient4229 ingredient2844 ingredient1944 ingredient4844 ingredient9253 ingredient5443 ingredient1144 ingredient6873 ingredient6045 ingredient5223 ingredient2766 ingredient2388 ingredient5621 ingredient4535 ingredient8028 ingredient810 ingredient2588 ingredient4455 ingredient331 ingredient683 ingredient4923 ingredient4550 ingredient9528 ingredient1408 ingredient9525 ingredient2250 ingredient2569 ingredient7198 ingredient1181 ingredient6709 ingredient8615 ingredient3116 ingredient9274 ingredient7539 ingredient9725 ingredient8360 ingredient1456 ingredient9953 ingredient268 ingredient9383 ingredient8178 ingredient1468 ingredient8748 ingredient6260 ingredient5609 ingredient8864 ingredient8247 ingredient7878 ingredient6150 ingredient3990 ingredient3649 ingredient1551 ingredient2340 ingredient216 ingredient4258 ingredient723 ingredient520 ingredient6930 ingredient5055 ingredient4722 ingredient8067 ingredient4716 ingredient3145 ingredient349 ingredient256 ingredient2539 ingredient817 ingredient1973 ingredient4024 ingredient8427 ingredient3028 ingredient3887 ingredient4665 ingredient8830 ingredient5515 ingredient6768 ingredient696 ingredient4373 ingredient4148 ingredient9811 ingredient8909 ingredient1954 ingredient9863 ingredient8850 ingredient9609 ingredient2635 ingredient5521 ingredient6022 ingredient7864 ingredient2280 ingredient9870 ingredient2654 ingredient7790 ingredient2630 ingredient7805 ingredient3490 ingredient6821 ingredient2354 ingredient7003 ingredient8355 ingredient6508 ingredient9472 ingredient8135 ingredient5066 ingredient4776 ingredient5815 ingredient7672 ingredient7428 ingredient4085 ingredient8213 ingredient424 ingredient4783 ingredient7085 ingredient8138 ingredient7246 ingredient8389 ingredient9221 ingredient5856 ingredient1040 ingredient6035 ingredient1416 ingredient6520 ingredient7503 ingredient1921 ingredient9053 ingredient9248 ingredient3503 ingredient628 ingredient3339 ingredient4494 ingredient6264 ingredient3143 ingredient9030 ingredient5604 ingredient6300 ingredient3376 ingredient3390 ingredient3121 ingredient8055 ingredient4054 ingredient5170 ingredient5032 ingredient7408 ingredient6445 ingredient6356 ingredient4803 ingredient6738 ingredient8688 ingredient2531 ingredient8277 ingredient2626 ingredient1058 ingredient4416 ingredient9892 ingredient4625 ingredient9396 ingredient4026 ingredient5221 ingredient9240 ingredient8935 ingredient9656 ingredient6234 ingredient5030 ingredient3406 ingredient7674 ingredient947 ingredient8875 ingredient8920 ingredient7715 ingredient9277 ingredient6789 ingredient316 ingredient4512 ingredient3097 ingredient83 ingredient8613 ingredient6103 ingredient7771 ingredient120 ingredient8327 ingredient7111 ingredient2168 ingredient6989 ingredient2426 ingredient7631 ingredient6357 ingredient9605 ingredient94 ingredient6650 ingredient4066 ingredient9777 ingredient9488 ingredient2878 ingredient4916 ingredient6632 ingredient9283 ingredient7480 ingredient1809 ingredient5945 ingredient5527 ingredient8820 ingredient6601 ingredient3605 ingredient8987 ingredient2454 ingredient2894 ingredient6340 ingredient5301 ingredient2749 ingredient4098 ingredient8785 ingredient3637 ingredient5295 ingredient945 ingredient3279 ingredient7406 ingredient9489 ingredient1559 ingredient7673 ingredient4970 ingredient2451 ingredient1461 ingredient1148 ingredient8739 ingredient7768 ingredient9667 ingredient3973 ingredient1375 ingredient1 ingredient7865 ingredient3384 ingredient4593 ingredient7497 ingredient3197 ingredient2860 ingredient491 ingredient3878 ingredient1624 ingredient8352 ingredient3093 ingredient6861 ingredient4102 ingredient6605 ingredient691 ingredient872 ingredient6765 ingredient3251 ingredient292 ingredient7419 ingredient4340 ingredient8287 ingredient6345 ingredient3822 ingredient9845 ingredient2430 ingredient8332 ingredient6986 ingredient8714 ingredient250 ingredient9211 ingredient8901 ingredient6673 ingredient5551 ingredient4785 ingredient1310 ingredient7181 ingredient2491 ingredient677 ingredient309 ingredient7382 ingredient4658 ingredient4525 ingredient1741 ingredient5687 ingredient6599 ingredient9610 ingredient9088 ingredient9957 ingredient4846 ingredient7660 ingredient9928 ingredient1764 ingredient1522 ingredient7177 ingredient7276 ingredient6939 ingredient4855 ingredient6841 ingredient6177 ingredient6758 ingredient5543 ingredient7964 ingredient5628 ingredient2524 ingredient1570 ingredient8111 ingredient2332 ingredient8878 ingredient9573 ingredient2955 ingredient3353 ingredient2184 ingredient1024 ingredient1406 ingredient868 ingredient5866 ingredient4409 ingredient4998 ingredient3840 ingredient8097 ingredient5023 ingredient7050 ingredient998 ingredient2461 ingredient3058 ingredient9422 ingredient9434 ingredient4585 ingredient2723 ingredient2418 ingredient470 ingredient2777 ingredient581 ingredient2634 ingredient31 ingredient1855 ingredient2275 ingredient9178 ingredient5434 ingredient5640 ingredient4792 ingredient5677 ingredient9720 ingredient4209 ingredient3229 ingredient7165 ingredient4277 ingredient8269 ingredient1380 ingredient5152 ingredient5491 ingredient2823 ingredient9398 ingredient5058 ingredient9327 ingredient4731 ingredient4842 ingredient6883 ingredient3981 ingredient2125 ingredient1203 ingredient4226 ingredient2991 ingredient717 ingredient2286 ingredient8498 ingredient8577 ingredient6937 ingredient2605 ingredient5893 ingredient9503 ingredient6616 ingredient5348 ingredient5031 ingredient1961 ingredient2957 ingredient7337 ingredient2830 ingredient2900 ingredient1211 ingredient6799 ingredient9546 ingredient9916 ingredient9069 ingredient4458 ingredient8125 ingredient124 ingredient8450 ingredient7220 ingredient4678 ingredient5512 ingredient2889 ingredient7951 ingredient6179 ingredient1749 ingredient2661 ingredient1907 ingredient8206 ingredient171 ingredient8515 ingredient4811 ingredient2507 ingredient6843 ingredient2282 ingredient5367 ingredient3178 ingredient5239 ingredient5209 ingredient4943 ingredient409 ingredient1234 ingredient5402 ingredient3844 ingredient4088 ingredient1252 ingredient8865 ingredient2289 ingredient272 ingredient3367 ingredient1786 ingredient2680 ingredient9262 ingredient7250 ingredient9036 ingredient7066 ingredient5559 ingredient2243 ingredient2981 ingredient4296 ingredient4193 ingredient5087 ingredient2213 ingredient9792 ingredient3007 ingredient5071 ingredient751 ingredient4972 ingredient9858 ingredient632 ingredient9983 ingredient5403 ingredient2149 ingredient4891 ingredient8403 ingredient1281 ingredient2011 ingredient6523 ingredient2731 ingredient169 ingredient5891 ingredient2945 ingredient6420 ingredient9625 ingredient3607 ingredient2206 ingredient916 ingredient6872 ingredient2833 ingredient1970 ingredient3252 ingredient5009 ingredient8176 ingredient6444 ingredient2133 ingredient3319 ingredient3452 ingredient1026 ingredient7578 ingredient5384 ingredient479 ingredient3432 ingredient6334 ingredient1770 ingredient2017 ingredient5859 ingredient9115 ingredient2780 ingredient1110 ingredient1250 ingredient4018 ingredient3195 ingredient6576 ingredient3070 ingredient332 ingredient7808 ingredient8491 ingredient5966 ingredient919 ingredient6209 ingredient5019 ingredient3675 ingredient7802 ingredient5437 ingredient7852 ingredient6975 ingredient1668 ingredient3352 ingredient5746 ingredient2201 ingredient6153 ingredient5472 ingredient4925 ingredient6252 ingredient983 ingredient7729 ingredient1888 ingredient1823 ingredient7706 ingredient8596 ingredient9714 ingredient4207 ingredient2845 ingredient2702 ingredient2694 ingredient3331 ingredient1803 ingredient9125 ingredient7364 ingredient4826 ingredient3091 ingredient9370 ingredient5629 ingredient312 ingredient3078 ingredient4313 ingredient6467 ingredient9828 ingredient627 ingredient4090 ingredient4238 ingredient9510 ingredient4651 ingredient9683 ingredient5842 ingredient1279 ingredient6974 ingredient5729 ingredient8400 ingredient2897 ingredient8246 ingredient959 ingredient2508 ingredient1845 ingredient4679 ingredient468 ingredient5481 ingredient2926 ingredient1132 ingredient9540 ingredient522 ingredient5039 ingredient3202 ingredient6796 ingredient6194 ingredient3001 ingredient2429 ingredient7008 ingredient9255 ingredient9539 ingredient8296 ingredient9612 ingredient370 ingredient5756 ingredient5396 ingredient807 ingredient3859 ingredient5928 ingredient2178 ingredient1710 ingredient6188 ingredient7634 ingredient596 ingredient4644 ingredient8472 ingredient4612 ingredient2021 ingredient7325 ingredient6889 ingredient4337 ingredient7172 ingredient1236 ingredient8675 ingredient5732 ingredient9911 ingredient3582 ingredient2234 ingredient2855 ingredient1009 ingredient1235 ingredient7398 ingredient1727 ingredient1458 ingredient3394 ingredient7371 ingredient2589 ingredient4685 ingredient3766 ingredient7945 ingredient273 ingredient2837 ingredient3756 ingredient2176 ingredient9773 ingredient4634 ingredient5292 ingredient3634 ingredient8158 ingredient9116 ingredient4390 ingredient7866 ingredient5387 ingredient5141 ingredient5352 ingredient8848 ingredient1162 ingredient1301 ingredient6031 ingredient4060 ingredient7241 ingredient2151 ingredient6275 ingredient9685 ingredient6057 ingredient5142 ingredient6003 ingredient9744 ingredient3470 ingredient5526 ingredient1112 ingredient1270 ingredient8563 ingredient7531 ingredient8408 ingredient6338 ingredient2911 ingredient1347 ingredient1825 ingredient4439 ingredient1276 ingredient3346 ingredient4606 ingredient299 ingredient3707 ingredient6304 ingredient381 ingredient9985 ingredient2431 ingredient7755 ingredient5931 ingredient3408 ingredient2968 ingredient1328 ingredient2902 ingredient5265 ingredient7404 ingredient1242 ingredient2486 ingredient5999 ingredient951 ingredient6902 ingredient9844 ingredient7488 ingredient4347 ingredient3039 ingredient5826 ingredient5442 ingredient4312 ingredient9591 ingredient1477 ingredient2453 ingredient5482 ingredient6764 ingredient5081 ingredient913 ingredient1205 ingredient2384 ingredient4728 ingredient3960 ingredient368 ingredient5603 ingredient6536 ingredient4489 ingredient8291 ingredient4162 ingredient8288 ingredient8874 ingredient9343 ingredient9077 ingredient5169 ingredient5462 ingredient1536 ingredient6978 ingredient3551 ingredient6717 ingredient9912 ingredient1334 ingredient1294 ingredient8749 ingredient6842 ingredient3267 ingredient2009 ingredient4714 ingredient1023 ingredient2835 ingredient3076 ingredient8612 ingredient6344 ingredient2420 ingredient1613 ingredient8687 ingredient3423 ingredient6229 ingredient5854 ingredient1333 ingredient1201 ingredient2251 ingredient4471 ingredient2287 ingredient4831 ingredient589 ingredient7205 ingredient6820 ingredient9164 ingredient1308 ingredient3951 ingredient9730 ingredient3609 ingredient4427 ingredient3882 ingredient7200 ingredient9617 ingredient4889 ingredient4242 ingredient5683 ingredient8718 ingredient4833 ingredient8527 ingredient1899 ingredient3851 ingredient5243 ingredient703 ingredient9203 ingredient9901 ingredient92 ingredient5562 ingredient7785 ingredient3627 ingredient3921 ingredient9698 ingredient4961 ingredient7633 ingredient6563 ingredient2188 ingredient10000 ingredient4294 ingredient2127 ingredient1261 ingredient9801 ingredient1689 ingredient6874 ingredient1600 ingredient7074 ingredient7881 ingredient9232 ingredient5350 ingredient5636 ingredient4154 ingredient7701 ingredient2161 ingredient1974 ingredient8847 ingredient9307 ingredient3333 ingredient4836 ingredient3338 ingredient7980 ingredient4101 ingredient2571 ingredient7629 ingredient5070 ingredient3151 ingredient9336 ingredient6335 ingredient5420 ingredient6680 ingredient6591 ingredient5084 ingredient1045 ingredient2003 ingredient7396 ingredient7109 ingredient8297 ingredient5150 ingredient9769 ingredient5777 ingredient6142 ingredient5368 ingredient4429 ingredient740 ingredient9640 ingredient3052 ingredient1821 ingredient1409 ingredient8811 ingredient2776 ingredient7824 ingredient5615 ingredient3326 ingredient3067 ingredient262 ingredient3118 ingredient2668 ingredient6043 ingredient264 ingredient6032 ingredient5051 ingredient2522 ingredient7168 ingredient6662 ingredient4468 ingredient8128 ingredient7313 ingredient3681 ingredient1010 ingredient2782 ingredient5108 ingredient3635 ingredient7858 ingredient2389 ingredient2239 ingredient1702 ingredient9921 ingredient1597 ingredient9981 ingredient5069 ingredient6447 ingredient9062 ingredient1487 ingredient1218 ingredient3363 ingredient526 ingredient3180 ingredient4518 ingredient2856 ingredient8034 ingredient2212 ingredient3044 ingredient592 ingredient891 ingredient8462 ingredient4355 ingredient9463 ingredient363 ingredient8642 ingredient7711 ingredient5895 ingredient8656 ingredient3284 ingredient5309 ingredient59 ingredient7122 ingredient7452 ingredient4632 ingredient8690 ingredient7579 ingredient1374 ingredient7028 ingredient9048 ingredient5451 ingredient4915 ingredient5505 ingredient994 ingredient629 ingredient7504 ingredient9766 ingredient8031 ingredient9938 ingredient8001 ingredient5390 ingredient4668 ingredient9138 ingredient7353 ingredient3414 ingredient8648 ingredient3481 ingredient8048 ingredient4031 ingredient237 ingredient1583 ingredient2533 ingredient8859 ingredient1630 ingredient373 ingredient4341 ingredient514 ingredient4812 ingredient5763 ingredient9710 ingredient689 ingredient8147 ingredient2725 ingredient9632 ingredient7161 ingredient1466 ingredient7926 ingredient710 ingredient3641 ingredient682 ingredient4693 ingredient1296 ingredient8715 ingredient5103 ingredient3074 ingredient3789 ingredient8052 ingredient771 ingredient9043 ingredient333 ingredient7820 ingredient8765 ingredient3361 ingredient8863 ingredient444 ingredient4047 ingredient2970 ingredient2604 ingredient4410 ingredient3047 ingredient7800 ingredient2302 ingredient5313 ingredient9449 ingredient9174 ingredient1957 ingredient5685 ingredient4374 ingredient5088 ingredient2148 ingredient3596 ingredient7854 ingredient3499 ingredient5498 ingredient4590 ingredient1021 ingredient5947 ingredient3124 ingredient7315 ingredient3740 ingredient2040 ingredient4929 ingredient4028 ingredient6480 ingredient7430 ingredient2355 ingredient2691 ingredient8618 ingredient4946 ingredient6994 ingredient55 ingredient6633 ingredient8992 ingredient4748 ingredient8895 ingredient5503 ingredient4871 ingredient5133 ingredient4203 ingredient6806 ingredient1104 ingredient6636 ingredient750 ingredient6237 ingredient7849 ingredient8330 ingredient6363 ingredient460 ingredient9548 ingredient8027 ingredient3265 ingredient2109 ingredient731 ingredient6594 ingredient7829 ingredient5201 ingredient7920 ingredient109 ingredient5079 ingredient4561 ingredient4406 ingredient7265 ingredient1092 ingredient9351 ingredient7928 ingredient77 ingredient1759 ingredient2576 ingredient1387 ingredient4932 ingredient2951 ingredient1357 ingredient4338 ingredient2104 ingredient2813 ingredient9545 ingredient7320 ingredient4315 ingredient7536 ingredient3258 ingredient5835 ingredient7985 ingredient1332 ingredient6980 ingredient9109 ingredient9478 ingredient2448 ingredient1985 ingredient280 ingredient6374 ingredient3987 ingredient8686 ingredient1537 ingredient6310 ingredient1481 ingredient2248 ingredient3120 ingredient4358 ingredient649 ingredient4290 ingredient4386 ingredient9452 ingredient5652 ingredient7930 ingredient6837 ingredient3305 ingredient2331 ingredient8164 ingredient5467 ingredient1988 ingredient1670 ingredient1533 ingredient3687 ingredient1760 ingredient1510 ingredient242 ingredient3235 ingredient5516 ingredient165 ingredient3038 ingredient3181 ingredient2685 ingredient3089 ingredient6240 ingredient293 ingredient5807 ingredient6530 ingredient6546 ingredient8627 ingredient3835 ingredient5086 ingredient1467 ingredient297 ingredient5003 ingredient866 ingredient1393 ingredient9213 ingredient7119 ingredient732 ingredient7376 ingredient1088 ingredient4701 ingredient6064 ingredient1066 ingredient4293 ingredient4200 ingredient6516 ingredient2573 ingredient7173 ingredient4764 ingredient624 ingredient7737 ingredient4327 ingredient9007 ingredient3818 ingredient62 ingredient7742 ingredient2487 ingredient2041 ingredient4104 ingredient6849 ingredient9314 ingredient2686 ingredient3433 ingredient6698 ingredient3068 ingredient1851 ingredient6375 ingredient3849 ingredient1061 ingredient5139 ingredient805 ingredient1829 ingredient5166 ingredient7756 ingredient9026 ingredient2768 ingredient2867 ingredient4555 ingredient7825 ingredient4002 ingredient7447 ingredient9739 ingredient7245 ingredient5684 ingredient8567 ingredient739 ingredient9481 ingredient2865 ingredient709 ingredient418 ingredient361 ingredient1847 ingredient193 ingredient2621 ingredient4114 ingredient7801 ingredient8750 ingredient9712 ingredient101 ingredient9172 ingredient7668 ingredient327 ingredient432 ingredient3010 ingredient2655 ingredient9622 ingredient7787 ingredient4542 ingredient5331 ingredient8964 ingredient4565 ingredient347 ingredient4809 ingredient6228 ingredient6160 ingredient116 ingredient9217 ingredient2907 ingredient9328 ingredient1878 ingredient208 ingredient5002 ingredient2033 ingredient8822 ingredient4656 ingredient6901 ingredient317 ingredient2051 ingredient5356 ingredient7115 ingredient7963 ingredient4948 ingredient8435 ingredient1943 ingredient3957 ingredient2484 ingredient5230 ingredient7242 ingredient3389 ingredient3726 ingredient6430 ingredient6007 ingredient4396 ingredient2891 ingredient4375 ingredient6932 ingredient7922 ingredient6749 ingredient285 ingredient2843 ingredient3628 ingredient9501 ingredient4517 ingredient9608 ingredient5114 ingredient156 ingredient1307 ingredient9908 ingredient8483 ingredient8284 ingredient1063 ingredient4253 ingredient2166 ingredient653 ingredient4739 ingredient4282 ingredient724 ingredient35 ingredient711 ingredient1233 ingredient9256 ingredient578 ingredient8104 ingredient3297 ingredient3711 ingredient7809 ingredient3172 ingredient6505 ingredient7908 ingredient4021 ingredient958 ingredient2025 ingredient7910 ingredient8870 ingredient9729 ingredient5111 ingredient761 ingredient3518 ingredient3469 ingredient9817 ingredient5323 ingredient3498 ingredient6277 ingredient9630 ingredient6543 ingredient6629 ingredient9266 ingredient5027 ingredient1454 ingredient1094 ingredient2211 ingredient9586 ingredient8823 ingredient1338 ingredient5110 ingredient6037 ingredient6111 ingredient503 ingredient535 ingredient4487 ingredient3729 ingredient4426 ingredient680 ingredient9506 ingredient5234 ingredient8919 ingredient7605 ingredient6865 ingredient8867 ingredient2153 ingredient7687 ingredient6778 ingredient6499 ingredient4466 ingredient7451 ingredient6140 ingredient2563 ingredient2409 ingredient8786 ingredient6517 ingredient3668 ingredient5642 ingredient6600 ingredient826 ingredient3640 ingredient6784 ingredient6021 ingredient6800 ingredient2179 ingredient3410 ingredient106 ingredient6276 ingredient2549 ingredient3212 ingredient2342 ingredient6255 ingredient3065 ingredient7132 ingredient9498 ingredient8764 ingredient5196 ingredient3568 ingredient549 ingredient9337 ingredient3342 ingredient3508 ingredient7138 ingredient4959 ingredient7329 ingredient1274 ingredient5546 ingredient883 ingredient1798 ingredient3455 ingredient3529 ingredient1871 ingredient8023 ingredient7542 ingredient6661 ingredient3836 ingredient7234 ingredient9384 ingredient50 ingredient8886 ingredient1177 ingredient2628 ingredient5228 ingredient3811 ingredient5824 ingredient6369 ingredient8860 ingredient6097 ingredient1936 ingredient186 ingredient379 ingredient3777 ingredient7293 ingredient5464 ingredient889 ingredient8971 ingredient7833 ingredient2472 ingredient399 ingredient5316 ingredient9401 ingredient4981 ingredient3228 ingredient6936 ingredient5638 ingredient3965 ingredient6299 ingredient8180 ingredient3157 ingredient6627 ingredient9511 ingredient3982 ingredient9236 ingredient2579 ingredient366 ingredient7292 ingredient4291 ingredient2814 ingredient3292 ingredient4067 ingredient6900 ingredient5232 ingredient187 ingredient5673 ingredient7994 ingredient2908 ingredient2362 ingredient8999 ingredient5097 ingredient3171 ingredient1633 ingredient6242 ingredient1657 ingredient8374 ingredient5602 ingredient8334 ingredient6288 ingredient679 ingredient664 ingredient9533 ingredient3488 ingredient5308 ingredient1595 ingredient1841 ingredient3572 ingredient5266 ingredient7815 ingredient4348 ingredient8335 ingredient2959 ingredient9265 ingredient3661 ingredient6983 ingredient9736 ingredient502 ingredient4777 ingredient9915 ingredient4343 ingredient9259 ingredient1552 ingredient5312 ingredient2192 ingredient6813 ingredient5483 ingredient4781 ingredient9803 ingredient6110 ingredient5107 ingredient9614 ingredient2467 ingredient9111 ingredient4245 ingredient6073 ingredient9040 ingredient345 ingredient9220 ingredient7795 ingredient6161 ingredient3674 ingredient2043 ingredient3875 ingredient9717 ingredient8737 ingredient5255 ingredient6985 ingredient7899 ingredient3528 ingredient4308 ingredient1987 ingredient3846 ingredient494 ingredient5871 ingredient1037 ingredient3683 ingredient4254 ingredient1447 ingredient746 ingredient337 ingredient9029 ingredient3538 ingredient5220 ingredient2096 ingredient7918 ingredient9310 ingredient4121 ingredient7024 ingredient3312 ingredient8191 ingredient4577 ingredient6686 ingredient7566 ingredient9812 ingredient4001 ingredient7213 ingredient6542 ingredient2290 ingredient1303 ingredient7720 ingredient158 ingredient2029 ingredient4379 ingredient3963 ingredient5793 ingredient3507 ingredient5074 ingredient5257 ingredient5548 ingredient1945 ingredient2318 ingredient7639 ingredient6133 ingredient9724 ingredient7255 ingredient2136 ingredient5405 ingredient6683 ingredient4470 ingredient6968 ingredient6720 ingredient4553 ingredient4717 ingredient986 ingredient8829 ingredient6387 ingredient283 ingredient5120 ingredient3923 ingredient7298 ingredient725 ingredient4475 ingredient5072 ingredient2525 ingredient9876 ingredient6809 ingredient7346 ingredient1644 ingredient6361 ingredient960 ingredient6079 ingredient6330 ingredient1573 ingredient1318 ingredient1869 ingredient6436 ingredient1682 ingredient8323 ingredient834 ingredient7892 ingredient6355 ingredient3697 ingredient8486 ingredient8647 ingredient3035 ingredient9060 ingredient7157 ingredient7466 ingredient1382 ingredient6189 ingredient7216 ingredient3308 ingredient7694 ingredient3447 ingredient778 ingredient3224 ingredient8185 ingredient2540 ingredient1730 ingredient3660 ingredient2552 ingredient4365 ingredient1951 ingredient2706 ingredient5289 ingredient9429 ingredient8221 ingredient2252 ingredient8388 ingredient6408 ingredient8839 ingredient9264 ingredient2909 ingredient1828 ingredient6388 ingredient9856 ingredient6548 ingredient5972 ingredient735 ingredient5883 ingredient8137 ingredient779 ingredient6282 ingredient1517 ingredient8516 ingredient6577 ingredient7594 ingredient1711 ingredient7383 ingredient3765 ingredient4613 ingredient403 ingredient6551 ingredient18 ingredient9943 ingredient3999 ingredient8051 ingredient4013 ingredient4639 ingredient2921 ingredient1464 ingredient2882 ingredient8351 ingredient7869 ingredient5354 ingredient5566 ingredient4763 ingredient2810 ingredient5585 ingredient6424 ingredient7615 ingredient2154 ingredient1910 ingredient3658 ingredient2594 ingredient9920 ingredient8378 ingredient7990 ingredient5144 ingredient3601 ingredient5878 ingredient5838 ingredient7183 ingredient1725 ingredient5694 ingredient338 ingredient4501 ingredient7741 ingredient2700 ingredient1245 ingredient3466 ingredient2972 ingredient6658 ingredient6510 ingredient6427 ingredient850 ingredient1191 ingredient1200 ingredient5936 ingredient146 ingredient2113 ingredient4244 ingredient4603 ingredient206 ingredient9568 ingredient5329 ingredient8399 ingredient5736 ingredient8622 ingredient6036 ingredient1275 ingredient6197 ingredient1701 ingredient2667 ingredient6311 ingredient1623 ingredient7103 ingredient7735 ingredient1681 ingredient3848 ingredient9039 ingredient8273 ingredient4032 ingredient7718 ingredient2625 ingredient4505 ingredient330 ingredient9804 ingredient2267 ingredient5285 ingredient2854 ingredient7598 ingredient7955 ingredient1157 ingredient9475 ingredient9306 ingredient2132 ingredient2262 ingredient3314 ingredient4186 ingredient321 ingredient5177 ingredient9324 ingredient495 ingredient9073 ingredient1865 ingredient9222 ingredient4775 ingredient5429 ingredient1405 ingredient6005 ingredient1209 ingredient7093 ingredient8499 ingredient8451 ingredient6362 ingredient7937 ingredient6478 ingredient6922 ingredient7551 ingredient2989 ingredient6509 ingredient2452 ingredient622 ingredient743 ingredient3571 ingredient29 ingredient477 ingredient5206 ingredient6449 ingredient6253 ingredient6708 ingredient4570 ingredient9294 ingredient4736 ingredient367 ingredient7475 ingredient1504 ingredient3553 ingredient3315 ingredient75 ingredient1649 ingredient8232 ingredient270 ingredient6996 ingredient7007 ingredient7684 ingredient9556 ingredient7889 ingredient814 ingredient2055 ingredient202 ingredient360 ingredient2089 ingredient6377 ingredient8790 ingredient8384 ingredient9380 ingredient7471 ingredient7779 ingredient2929 ingredient2662 ingredient1848 ingredient5125 ingredient4115 ingredient8545 ingredient1119 ingredient1543 ingredient5078 ingredient2983 ingredient2145 ingredient5140 ingredient9968 ingredient3155 ingredient275 ingredient6697 ingredient3800 ingredient1850 ingredient2381 ingredient5355 ingredient2001 ingredient5799 ingredient8358 ingredient5764 ingredient8539 ingredient575 ingredient5091 ingredient1810 ingredient7037 ingredient3099 ingredient3671 ingredient8405 ingredient2639 ingredient8922 ingredient1768 ingredient2364 ingredient5455 ingredient563 ingredient4029 ingredient8188 ingredient5590 ingredient7882 ingredient378 ingredient9095 ingredient2728 ingredient7405 ingredient313 ingredient791 ingredient5894 ingredient8511 ingredient3670 ingredient8480 ingredient1774 ingredient1500 ingredient5539 ingredient3368 ingredient6982 ingredient7387 ingredient4043 ingredient6011"
     ]
    },
    {
     "name": "stdout",
     "output_type": "stream",
     "text": [
      " ingredient3994 ingredient5828 ingredient6559 ingredient7152 ingredient2129 ingredient2006 ingredient3821 ingredient6359 ingredient8949 ingredient5509 ingredient974 ingredient2784 ingredient4956 ingredient671 ingredient4152 ingredient667 ingredient8187 ingredient8805 ingredient8434 ingredient1231 ingredient7351 ingredient9176 ingredient5727 ingredient6637 ingredient1476 ingredient4938 ingredient7640 ingredient6130 ingredient1697 ingredient1947 ingredient3731 ingredient8574 ingredient3160 ingredient5264 ingredient4435 ingredient9298 ingredient9250 ingredient7462 ingredient6476 ingredient6584 ingredient6126 ingredient8300 ingredient9965 ingredient9694 ingredient774 ingredient8584 ingredient23 ingredient9827 ingredient5851 ingredient5175 ingredient342 ingredient5514 ingredient626 ingredient9877 ingredient4569 ingredient6779 ingredient2709 ingredient7463 ingredient6854 ingredient4604 ingredient3417 ingredient8139 ingredient9301 ingredient6702 ingredient7166 ingredient9571 ingredient2265 ingredient6181 ingredient8379 ingredient6858 ingredient7295 ingredient8257 ingredient1844 ingredient4016 ingredient2207 ingredient6613 ingredient3578 ingredient8706 ingredient3587 ingredient6953 ingredient7368 ingredient8421 ingredient8602 ingredient4630 ingredient128 ingredient4936 ingredient3737 ingredient3989 ingredient3910 ingredient82 ingredient3013 ingredient1106 ingredient5276 ingredient7318 ingredient1632 ingredient4385 ingredient9435 ingredient6243 ingredient5660 ingredient6131 ingredient2511 ingredient7726 ingredient1001 ingredient6880 ingredient8508 ingredient3889 ingredient2785 ingredient9994 ingredient3617 ingredient6959 ingredient3374 ingredient7569 ingredient8365 ingredient8818 ingredient1017 ingredient3254 ingredient7760 ingredient6757 ingredient9757 ingredient8904 ingredient5508 ingredient7229 ingredient6913 ingredient2208 ingredient20 ingredient8316 ingredient4112 ingredient5376 ingredient884 ingredient6164 ingredient8214 ingredient4061 ingredient9530 ingredient151 ingredient8880 ingredient2751 ingredient9797 ingredient5873 ingredient2952 ingredient9882 ingredient2971 ingredient2664 ingredient4158 ingredient5251 ingredient6719 ingredient1639 ingredient5050 ingredient340 ingredient8502 ingredient7565 ingredient678 ingredient9838 ingredient9795 ingredient115 ingredient9931 ingredient3347 ingredient7995 ingredient2013 ingredient3665 ingredient8430 ingredient9661 ingredient747 ingredient4636 ingredient4273 ingredient6847 ingredient8942 ingredient4551 ingredient6562 ingredient7197 ingredient5765 ingredient8230 ingredient7589 ingredient9374 ingredient2931 ingredient7143 ingredient3453 ingredient6068 ingredient2092 ingredient3796 ingredient1879 ingredient3798 ingredient4596 ingredient6997 ingredient8753 ingredient489 ingredient9114 ingredient4588 ingredient7139 ingredient1826 ingredient1560 ingredient2173 ingredient5136 ingredient6082 ingredient7140 ingredient6170 ingredient8184 ingredient5392 ingredient61 ingredient2761 ingredient546 ingredient9495 ingredient8844 ingredient4980 ingredient5924 ingredient4599 ingredient1041 ingredient5502 ingredient4800 ingredient8724 ingredient5714 ingredient3483 ingredient1604 ingredient1799 ingredient6664 ingredient8808 ingredient1875 ingredient7744 ingredient8386 ingredient6535 ingredient26 ingredient1437 ingredient4608 ingredient4534 ingredient8553 ingredient9159 ingredient941 ingredient1800 ingredient8030 ingredient1530 ingredient73 ingredient1176 ingredient7393 ingredient2300 ingredient159 ingredient3659 ingredient6451 ingredient8464 ingredient2383 ingredient1378 ingredient2846 ingredient2333 ingredient5413 ingredient3935 ingredient4388 ingredient8581 ingredient3061 ingredient777 ingredient9750 ingredient3476 ingredient173 ingredient708 ingredient509 ingredient3255 ingredient4069 ingredient7862 ingredient9728 ingredient2042 ingredient5202 ingredient2064 ingredient4735 ingredient6265 ingredient5274 ingredient9223 ingredient287 ingredient1918 ingredient2057 ingredient9461 ingredient6231 ingredient3278 ingredient2074 ingredient4979 ingredient647 ingredient3296 ingredient8802 ingredient6655 ingredient6875 ingredient4318 ingredient9946 ingredient1441 ingredient4562 ingredient3600 ingredient3360 ingredient898 ingredient6504 ingredient5552 ingredient1663 ingredient8310 ingredient2030 ingredient5959 ingredient8240 ingredient6984 ingredient4008 ingredient5656 ingredient1805 ingredient1295 ingredient8538 ingredient2721 ingredient5595 ingredient8406 ingredient4641 ingredient3807 ingredient7201 ingredient3754 ingredient3961 ingredient5260 ingredient4864 ingredient3724 ingredient5275 ingredient5569 ingredient8153 ingredient5269 ingredient7349 ingredient7282 ingredient8997 ingredient1520 ingredient4890 ingredient2740 ingredient3054 ingredient4765 ingredient2222 ingredient8369 ingredient4986 ingredient2684 ingredient6973 ingredient2550 ingredient4863 ingredient2683 ingredient4096 ingredient7116 ingredient6775 ingredient643 ingredient2228 ingredient7308 ingredient1901 ingredient6914 ingredient3464 ingredient2270 ingredient7626 ingredient4843 ingredient8077 ingredient6681 ingredient1483 ingredient6798 ingredient8815 ingredient3173 ingredient4314 ingredient906 ingredient2792 ingredient6368 ingredient1084 ingredient6437 ingredient5131 ingredient6028 ingredient8455 ingredient4526 ingredient8940 ingredient4527 ingredient2888 ingredient5330 ingredient3000 ingredient9207 ingredient4120 ingredient4751 ingredient6593 ingredient5795 ingredient9101 ingredient1793 ingredient7427 ingredient415 ingredient5424 ingredient8448 ingredient7247 ingredient2726 ingredient6380 ingredient1838 ingredient2423 ingredient2150 ingredient1496 ingredient9633 ingredient4140 ingredient6503 ingredient3198 ingredient5026 ingredient2345 ingredient2760 ingredient7280 ingredient2805 ingredient6176 ingredient2698 ingredient3480 ingredient4039 ingredient1747 ingredient1064 ingredient1667 ingredient922 ingredient8056 ingredient2562 ingredient1264 ingredient4056 ingredient9348 ingredient6351 ingredient899 ingredient932 ingredient4730 ingredient9089 ingredient8637 ingredient391 ingredient8261 ingredient228 ingredient5614 ingredient3179 ingredient6305 ingredient1766 ingredient9129 ingredient1615 ingredient2147 ingredient9835 ingredient2375 ingredient2529 ingredient3246 ingredient389 ingredient2674 ingredient2071 ingredient2849 ingredient1690 ingredient5968 ingredient137 ingredient1886 ingredient8968 ingredient3201 ingredient4178 ingredient6327 ingredient583 ingredient8682 ingredient1486 ingredient2687 ingredient7064 ingredient3392 ingredient681 ingredient6888 ingredient7940 ingredient9887 ingredient4350 ingredient8155 ingredient7604 ingredient1414 ingredient896 ingredient1853 ingredient6826 ingredient1204 ingredient755 ingredient1992 ingredient2233 ingredient2338 ingredient7357 ingredient1512 ingredient542 ingredient6912 ingredient117 ingredient1103 ingredient3397 ingredient547 ingredient5707 ingredient6892 ingredient5784 ingredient3273 ingredient5731 ingredient2200 ingredient2141 ingredient6318 ingredient9108 ingredient6987 ingredient4682 ingredient7455 ingredient8418 ingredient8228 ingredient1297 ingredient8693 ingredient3242 ingredient2608 ingredient2708 ingredient1128 ingredient1302 ingredient7095 ingredient3063 ingredient4497 ingredient2521 ingredient1048 ingredient912 ingredient946 ingredient5545 ingredient5093 ingredient8219 ingredient2016 ingredient9251 ingredient3395 ingredient7186 ingredient7330 ingredient3993 ingredient4718 ingredient5090 ingredient5360 ingredient8896 ingredient6706 ingredient5529 ingredient5862 ingredient3190 ingredient4860 ingredient2322 ingredient1982 ingredient354 ingredient4617 ingredient3527 ingredient756 ingredient9483 ingredient8841 ingredient406 ingredient954 ingredient7062 ingredient3922 ingredient5068 ingredient9413 ingredient6522 ingredient1859 ingredient5596 ingredient9929 ingredient9818 ingredient9451 ingredient1417 ingredient2229 ingredient7204 ingredient7304 ingredient2505 ingredient5080 ingredient3831 ingredient1386 ingredient1368 ingredient1738 ingredient2520 ingredient8203 ingredient1095 ingredient3066 ingredient1658 ingredient9121 ingredient6354 ingredient8263 ingredient2281 ingredient5056 ingredient5740 ingredient1608 ingredient8866 ingredient1192 ingredient9098 ingredient7105 ingredient554 ingredient5184 ingredient2675 ingredient9962 ingredient2421 ingredient7189 ingredient1007 ingredient4311 ingredient3524 ingredient4913 ingredient5885 ingredient6725 ingredient1713 ingredient5210 ingredient2763 ingredient3144 ingredient5118 ingredient6657 ingredient2437 ingredient763 ingredient6998 ingredient2786 ingredient7770 ingredient3385 ingredient3511 ingredient5374 ingredient1055 ingredient2399 ingredient2393 ingredient8782 ingredient8425 ingredient7641 ingredient4628 ingredient3778 ingredient5827 ingredient7848 ingredient9906 ingredient3496 ingredient3879 ingredient7856 ingredient9132 ingredient8958 ingredient4287 ingredient2538 ingredient341 ingredient6410 ingredient6086 ingredient9349 ingredient3557 ingredient3616 ingredient9333 ingredient3359 ingredient4985 ingredient9137 ingredient2744 ingredient4205 ingredient8202 ingredient9288 ingredient7403 ingredient4076 ingredient4030 ingredient2651 ingredient4052 ingredient888 ingredient8006 ingredient6297 ingredient3974 ingredient7043 ingredient5720 ingredient7686 ingredient9889 ingredient2875 ingredient3055 ingredient5021 ingredient6268 ingredient9991 ingredient8394 ingredient7328 ingredient9721 ingredient2121 ingredient1837 ingredient9066 ingredient8101 ingredient7960 ingredient6127 ingredient726 ingredient1889 ingredient3741 ingredient2593 ingredient5195 ingredient9329 ingredient9455 ingredient1257 ingredient436 ingredient976 ingredient1422 ingredient6919 ingredient5105 ingredient3104 ingredient8069 ingredient1243 ingredient319 ingredient86 ingredient3345 ingredient5635 ingredient6348 ingredient3817 ingredient7642 ingredient6537 ingredient5128 ingredient3713 ingredient8231 ingredient2068 ingredient2765 ingredient5668 ingredient7782 ingredient3206 ingredient7653 ingredient1834 ingredient3862 ingredient7312 ingredient2131 ingredient3149 ingredient8495 ingredient445 ingredient5769 ingredient1506 ingredient1435 ingredient344 ingredient8193 ingredient4874 ingredient5045 ingredient5430 ingredient6747 ingredient6148 ingredient2857 ingredient9638 ingredient7081 ingredient7690 ingredient6435 ingredient5663 ingredient5781 ingredient181 ingredient6885 ingredient6309 ingredient4006 ingredient1717 ingredient3478 ingredient8465 ingredient8655 ingredient1498 ingredient4592 ingredient9963 ingredient7180 ingredient6703 ingredient7019 ingredient2273 ingredient8767 ingredient5850 ingredient6564 ingredient6641 ingredient3902 ingredient6208 ingredient3320 ingredient447 ingredient7554 ingredient9575 ingredient7984 ingredient449 ingredient6501 ingredient937 ingredient8416 ingredient4750 ingredient4988 ingredient2934 ingredient9703 ingredient3911 ingredient6701 ingredient2611 ingredient1446 ingredient2038 ingredient4508 ingredient3673 ingredient3667 ingredient2120 ingredient5172 ingredient4274 ingredient9342 ingredient2741 ingredient8212 ingredient5414 ingredient5017 ingredient4797 ingredient7342 ingredient3111 ingredient8090 ingredient5733 ingredient3784 ingredient6619 ingredient8076 ingredient8734 ingredient398 ingredient4559 ingredient2542 ingredient2783 ingredient3084 ingredient5718 ingredient2530 ingredient7469 ingredient4689 ingredient7080 ingredient5219 ingredient3457 ingredient7946 ingredient8636 ingredient3971 ingredient6712 ingredient8595 ingredient1521 ingredient1207 ingredient8604 ingredient4510 ingredient7289 ingredient7533 ingredient2638 ingredient4623 ingredient1618 ingredient4624 ingredient3927 ingredient5296 ingredient8857 ingredient4431 ingredient4920 ingredient459 ingredient6061 ingredient6421 ingredient374 ingredient3735 ingredient7509 ingredient7781 ingredient1745 ingredient8134 ingredient2052 ingredient6772 ingredient5237 ingredient9780 ingredient2386 ingredient1897 ingredient5124 ingredient8025 ingredient4149 ingredient5305 ingredient8520 ingredient2468 ingredient4837 ingredient9021 ingredient8142 ingredient665 ingredient944 ingredient7897 ingredient9637 ingredient7335 ingredient523 ingredient8364 ingredient5977 ingredient5654 ingredient9970 ingredient423 ingredient6991 ingredient1452 ingredient969 ingredient9864 ingredient5987 ingredient204 ingredient7698 ingredient7540 ingredient8643 ingredient3676 ingredient2964 ingredient4631 ingredient6040 ingredient1863 ingredient8105 ingredient7006 ingredient5283 ingredient9271 ingredient7819 ingredient9226 ingredient6384 ingredient9416 ingredient5425 ingredient7496 ingredient5247 ingredient2373 ingredient1645 ingredient1324 ingredient5657 ingredient6117 ingredient2036 ingredient8509 ingredient6108 ingredient6958 ingredient3458 ingredient3261 ingredient8924 ingredient7528 ingredient9987 ingredient1309 ingredient8663 ingredient69 ingredient4921 ingredient867 ingredient9578 ingredient5398 ingredient3652 ingredient3696 ingredient2545 ingredient3465 ingredient195 ingredient147 ingredient5513 ingredient1247 ingredient8004 ingredient2259 ingredient3916 ingredient2759 ingredient108 ingredient6273 ingredient4614 ingredient3537 ingredient2294 ingredient164 ingredient4799 ingredient9117 ingredient5094 ingredient1399 ingredient7813 ingredient5385 ingredient6685 ingredient4259 ingredient8763 ingredient3540 ingredient1019 ingredient1569 ingredient8366 ingredient8198 ingredient5250 ingredient650 ingredient1398 ingredient7780 ingredient873 ingredient1619 ingredient5951 ingredient5563 ingredient9012 ingredient9260 ingredient1967 ingredient9096 ingredient6386 ingredient6391 ingredient8175 ingredient4265 ingredient2478 ingredient3857 ingredient4879 ingredient7708 ingredient1679 ingredient7734 ingredient46 ingredient7176 ingredient7719 ingredient1315 ingredient8049 ingredient7814 ingredient5993 ingredient2695 ingredient4042 ingredient1671 ingredient8855 ingredient9368 ingredient3328 ingredient9708 ingredient7670 ingredient1532 ingredient5242 ingredient5299 ingredient5879 ingredient7167 ingredient8639 ingredient9997 ingredient4442 ingredient9142 ingredient6182 ingredient3048 ingredient7916 ingredient8882 ingredient1872 ingredient1316 ingredient8707 ingredient32 ingredient8695 ingredient2268 ingredient2004 ingredient9466 ingredient3309 ingredient3770 ingredient8965 ingredient2391 ingredient9855 ingredient8852 ingredient5937 ingredient5225 ingredient417 ingredient4248 ingredient1751 ingredient940 ingredient1743 ingredient2880 ingredient8130 ingredient8507 ingredient2636 ingredient7327 ingredient7657 ingredient8148 ingredient9360 ingredient3014 ingredient9145 ingredient7114 ingredient7004 ingredient7559 ingredient598 ingredient5171 ingredient351 ingredient603 ingredient796 ingredient3227 ingredient9672 ingredient4065 ingredient118 ingredient7365 ingredient1979 ingredient5022 ingredient9651 ingredient7702 ingredient9302 ingredient8375 ingredient402 ingredient9458 ingredient1035 ingredient7936 ingredient8719 ingredient3594 ingredient2812 ingredient8801 ingredient362 ingredient6699 ingredient4175 ingredient9508 ingredient9320 ingredient6595 ingredient6739 ingredient4173 ingredient96 ingredient6136 ingredient3719 ingredient4798 ingredient6533 ingredient9924 ingredient5887 ingredient4279 ingredient4262 ingredient564 ingredient5773 ingredient386 ingredient5388 ingredient6823 ingredient6046 ingredient9057 ingredient198 ingredient6607 ingredient3931 ingredient6864 ingredient7969 ingredient4211 ingredient5532 ingredient7650 ingredient1122 ingredient9535 ingredient3699 ingredient5908 ingredient3801 ingredient3884 ingredient7273 ingredient7057 ingredient2283 ingredient6515 ingredient5691 ingredient7564 ingredient7591 ingredient508 ingredient3824 ingredient7287 ingredient625 ingredient2918 ingredient5960 ingredient8054 ingredient5943 ingredient833 ingredient5246 ingredient5298 ingredient6180 ingredient5816 ingredient4694 ingredient3899 ingredient9411 ingredient4965 ingredient6649 ingredient3213 ingredient4433 ingredient4567 "
     ]
    }
   ],
   "source": [
    "ui = open(\"e_elaborate.txt\")\n",
    "temp=ui.readlines()\n",
    "L=[]\n",
    "D=[]\n",
    "Like=[]\n",
    "Dlike=[]\n",
    "for i in range(1,len(temp)):\n",
    "    if i%2!=0:\n",
    "        L.append(temp[i].split())\n",
    "    else:\n",
    "        D.append(temp[i].split())\n",
    "\n",
    "for i in range(0,len(L)):\n",
    "    for j in range(1,int(L[i][0])+1):\n",
    "        Like.append(L[i][j])\n",
    "\n",
    "for i in range(0,len(D)):\n",
    "    for j in range(1,int(D[i][0])+1):\n",
    "        Dlike.append(D[i][j])\n",
    "\n",
    "for j in Dlike:\n",
    "    for i in Like:\n",
    "        if j == i:\n",
    "            Like.remove(j)\n",
    "\n",
    "Like=list(set(Like))\n",
    "print(len(Like),end=\" \")\n",
    "for i in Like:\n",
    "    print(i,end=\" \")"
   ]
  },
  {
   "cell_type": "code",
   "execution_count": null,
   "id": "86d8d0e7",
   "metadata": {},
   "outputs": [],
   "source": []
  }
 ],
 "metadata": {
  "kernelspec": {
   "display_name": "Python 3 (ipykernel)",
   "language": "python",
   "name": "python3"
  },
  "language_info": {
   "codemirror_mode": {
    "name": "ipython",
    "version": 3
   },
   "file_extension": ".py",
   "mimetype": "text/x-python",
   "name": "python",
   "nbconvert_exporter": "python",
   "pygments_lexer": "ipython3",
   "version": "3.9.7"
  }
 },
 "nbformat": 4,
 "nbformat_minor": 5
}
